{
  "nbformat": 4,
  "nbformat_minor": 0,
  "metadata": {
    "colab": {
      "provenance": []
    },
    "kernelspec": {
      "name": "python3",
      "display_name": "Python 3"
    },
    "language_info": {
      "name": "python"
    },
    "accelerator": "GPU",
    "gpuClass": "standard"
  },
  "cells": [
    {
      "cell_type": "code",
      "execution_count": null,
      "metadata": {
        "id": "xQmKyiu9gAQn"
      },
      "outputs": [],
      "source": [
        "import tensorflow as tf\n",
        "import numpy as np\n",
        "import os\n",
        "import time\n",
        "import matplotlib.pyplot as plt\n",
        "import glob\n",
        "import PIL\n",
        "import imageio\n",
        "\n",
        "from IPython import display"
      ]
    },
    {
      "cell_type": "code",
      "source": [
        "from tensorflow.keras.datasets import mnist\n",
        "\n",
        "(X_train, _), (X_test, _) = mnist.load_data()"
      ],
      "metadata": {
        "id": "zzNloJAAi5mO"
      },
      "execution_count": null,
      "outputs": []
    },
    {
      "cell_type": "code",
      "source": [
        "X_train.shape, X_test.shape"
      ],
      "metadata": {
        "colab": {
          "base_uri": "https://localhost:8080/"
        },
        "id": "rbQ_lnEIjKX6",
        "outputId": "b91ea38b-d565-4d6d-88d2-e229506fbd46"
      },
      "execution_count": null,
      "outputs": [
        {
          "output_type": "execute_result",
          "data": {
            "text/plain": [
              "((60000, 28, 28), (10000, 28, 28))"
            ]
          },
          "metadata": {},
          "execution_count": 50
        }
      ]
    },
    {
      "cell_type": "code",
      "source": [
        "X_train[0].shape"
      ],
      "metadata": {
        "colab": {
          "base_uri": "https://localhost:8080/"
        },
        "id": "vfOByDmCjL_s",
        "outputId": "edb36d6c-518c-432c-db91-b2f22e223d30"
      },
      "execution_count": null,
      "outputs": [
        {
          "output_type": "execute_result",
          "data": {
            "text/plain": [
              "(28, 28)"
            ]
          },
          "metadata": {},
          "execution_count": 51
        }
      ]
    },
    {
      "cell_type": "code",
      "source": [
        "fig = plt.figure(figsize=(2, 2))\n",
        "plt.imshow(X_train[0])\n",
        "plt.show()"
      ],
      "metadata": {
        "colab": {
          "base_uri": "https://localhost:8080/",
          "height": 159
        },
        "id": "qpfugBiKjQcA",
        "outputId": "a71b23f6-c76c-46aa-d9dd-bfcb84c48f4b"
      },
      "execution_count": null,
      "outputs": [
        {
          "output_type": "display_data",
          "data": {
            "text/plain": [
              "<Figure size 144x144 with 1 Axes>"
            ],
            "image/png": "[encoded data removed]"
          },
          "metadata": {
            "needs_background": "light"
          }
        }
      ]
    },
    {
      "cell_type": "code",
      "source": [
        "fig = plt.figure(figsize=(2, 3))\n",
        "f, axarr = plt.subplots(2, 3)\n",
        "for i in range(2):\n",
        "    for j in range(3):\n",
        "        axarr[i, j].imshow(X_train[i*3+j])\n",
        "plt.show()"
      ],
      "metadata": {
        "colab": {
          "base_uri": "https://localhost:8080/",
          "height": 288
        },
        "id": "P9kftfqqjWLI",
        "outputId": "0c9db908-a373-437c-8128-1f323ce6c02f"
      },
      "execution_count": null,
      "outputs": [
        {
          "output_type": "display_data",
          "data": {
            "text/plain": [
              "<Figure size 144x216 with 0 Axes>"
            ]
          },
          "metadata": {}
        },
        {
          "output_type": "display_data",
          "data": {
            "text/plain": [
              "<Figure size 432x288 with 6 Axes>"
            ],
            "image/png": "[encoded data removed]"
          },
          "metadata": {
            "needs_background": "light"
          }
        }
      ]
    },
    {
      "cell_type": "code",
      "source": [
        "X_train = np.expand_dims(X_train, axis=3).astype(np.float32)\n",
        "X_test = np.expand_dims(X_test, axis=3).astype(np.float32)"
      ],
      "metadata": {
        "id": "om7E7hgOmnDj"
      },
      "execution_count": null,
      "outputs": []
    },
    {
      "cell_type": "code",
      "source": [
        "X_train = X_train / 255.\n",
        "X_test = X_test / 255."
      ],
      "metadata": {
        "id": "itykWI5OkJNy"
      },
      "execution_count": null,
      "outputs": []
    },
    {
      "cell_type": "code",
      "source": [
        "X_train[X_train >= .5] = 1.\n",
        "X_train[X_train < .5] = 0.\n",
        "X_test[X_test >= .5] = 1.\n",
        "X_test[X_test < .5] = 0."
      ],
      "metadata": {
        "id": "hfzAS3bQkSdN"
      },
      "execution_count": null,
      "outputs": []
    },
    {
      "cell_type": "code",
      "source": [
        "len_train = 60000\n",
        "len_test = 10000\n",
        "batch_size = 32\n",
        "\n",
        "X_train = tf.data.Dataset.from_tensor_slices(X_train).shuffle(len_train).batch(batch_size)\n",
        "X_test = tf.data.Dataset.from_tensor_slices(X_test).shuffle(len_test).batch(batch_size)"
      ],
      "metadata": {
        "id": "5Dnaf5_wnIG7"
      },
      "execution_count": null,
      "outputs": []
    },
    {
      "cell_type": "code",
      "source": [
        "from tensorflow.keras import layers\n",
        "\n",
        "class CVAE(tf.keras.Model):\n",
        "    def __init__(self, latent_dim):\n",
        "        super(CVAE, self).__init__()\n",
        "        self.latent_dim = latent_dim\n",
        "\n",
        "        inputs = layers.Input(shape=(28, 28, 1))\n",
        "        x = layers.Conv2D(filters=32, kernel_size=3, strides=(2, 2), activation=\"relu\")(inputs)\n",
        "        x = layers.Conv2D(filters=64, kernel_size=3, strides=(2, 2), activation=\"relu\")(x)\n",
        "        x = layers.Flatten()(x)\n",
        "        outputs = layers.Dense(latent_dim + latent_dim)(x)\n",
        "        self.inference_net = tf.keras.models.Model(inputs=inputs, outputs=outputs)\n",
        "\n",
        "        inputs = layers.Input(shape=(latent_dim,))\n",
        "        x = layers.Dense(7*7*32, activation='relu')(inputs)\n",
        "        x = layers.Reshape(target_shape=(7, 7, 32))(x)\n",
        "        x = layers.Conv2DTranspose(filters=64, kernel_size=3, strides=(2,2), padding='same', activation='relu')(x)\n",
        "        x = layers.Conv2DTranspose(filters=32, kernel_size=3, strides=(2,2), padding='same', activation='relu')(x)\n",
        "        outputs = layers.Conv2DTranspose(filters=1, kernel_size=3, strides=(1,1), padding='same')(x)\n",
        "        self.generative_net = tf.keras.models.Model(inputs=inputs, outputs=outputs)\n",
        "\n",
        "    @tf.function\n",
        "    def sample(self, eps=None):\n",
        "        if eps is None:\n",
        "            eps = tf.random.normal(shape=(100, self.latent_dim))\n",
        "        return self.decode(eps, apply_sigmoid=True)\n",
        "\n",
        "    def encode(self, x):\n",
        "        mean, logvar = tf.split(self.inference_net(x), num_or_size_splits=2, axis=1)\n",
        "        return mean, logvar\n",
        "    \n",
        "    def reparameterize(self, mean, logvar):\n",
        "        eps = tf.random.normal(shape=mean.shape)\n",
        "        return eps * tf.exp(logvar * .5) + mean\n",
        "\n",
        "    def decode(self, z, apply_sigmoid=False):\n",
        "        logits = self.generative_net(z)\n",
        "        if apply_sigmoid:\n",
        "            probs = tf.sigmoid(logits)\n",
        "            return probs\n",
        "        return logits"
      ],
      "metadata": {
        "id": "eOn6qiZmsWk6"
      },
      "execution_count": null,
      "outputs": []
    },
    {
      "cell_type": "code",
      "source": [
        "optimizer = tf.keras.optimizers.Adam(1e-4)"
      ],
      "metadata": {
        "id": "QnpG0-AaqFS3"
      },
      "execution_count": null,
      "outputs": []
    },
    {
      "cell_type": "code",
      "source": [
        "def log_normal_pdf(sample, mean, logvar, raxis=1):\n",
        "    log2pi = tf.math.log(2. * np.pi)\n",
        "    return tf.reduce_sum(-.5 * ((sample - mean) ** 2. * tf.exp(-logvar) + logvar + log2pi),axis=raxis)\n",
        "\n",
        "@tf.function\n",
        "def compute_loss(model, x):\n",
        "    mean, logvar = model.encode(x)\n",
        "    z = model.reparameterize(mean, logvar)\n",
        "    x_logit = model.decode(z)\n",
        "\n",
        "    cross_ent = tf.nn.sigmoid_cross_entropy_with_logits(logits=x_logit, labels=x)\n",
        "    logpx_z = -tf.reduce_sum(cross_ent, axis=[1, 2, 3])\n",
        "    logpz = log_normal_pdf(z, 0., 0.)\n",
        "    logqz_x = log_normal_pdf(z, mean, logvar)\n",
        "    return -tf.reduce_mean(logpx_z + logpz - logqz_x)"
      ],
      "metadata": {
        "id": "VODlulnpqOy7"
      },
      "execution_count": null,
      "outputs": []
    },
    {
      "cell_type": "code",
      "source": [
        "def compute_apply_gradients(model, x, optimizer):\n",
        "    with tf.GradientTape() as tape:\n",
        "        loss = compute_loss(model, x)\n",
        "    gradients = tape.gradient(loss, model.trainable_variables)\n",
        "    optimizer.apply_gradients(zip(gradients, model.trainable_variables))"
      ],
      "metadata": {
        "id": "AgWY8swavlqv"
      },
      "execution_count": null,
      "outputs": []
    },
    {
      "cell_type": "code",
      "source": [
        "epochs = 100\n",
        "latent_dim = 50\n",
        "model = CVAE(latent_dim)"
      ],
      "metadata": {
        "id": "rkKxxHiSvpNs"
      },
      "execution_count": null,
      "outputs": []
    },
    {
      "cell_type": "code",
      "source": [
        "num_examples_to_generate = 16\n",
        "random_vector_for_generation = tf.random.normal(shape=[num_examples_to_generate, latent_dim])"
      ],
      "metadata": {
        "id": "8dqhgVk5vsaV"
      },
      "execution_count": null,
      "outputs": []
    },
    {
      "cell_type": "code",
      "source": [
        "def generate_and_save_images(model, epoch, test_input):\n",
        "    predictions = model.sample(test_input)\n",
        "    fig = plt.figure(figsize=(4,4))\n",
        "\n",
        "    for i in range(predictions.shape[0]):\n",
        "        plt.subplot(4, 4, i+1)\n",
        "        plt.imshow(predictions[i, :, :, 0], cmap='gray')\n",
        "        plt.axis('off')\n",
        "\n",
        "    # tight_layout minimizes the overlap between 2 sub-plots\n",
        "    plt.savefig('image_at_epoch_{:04d}.png'.format(epoch))\n",
        "    plt.show()"
      ],
      "metadata": {
        "id": "tCBeWI8EvwE7"
      },
      "execution_count": null,
      "outputs": []
    },
    {
      "cell_type": "code",
      "source": [
        "generate_and_save_images(model, 0, random_vector_for_generation)\n",
        "\n",
        "for epoch in range(1, epochs + 1):\n",
        "    start_time = time.time()\n",
        "    for train_x in X_train:\n",
        "        compute_apply_gradients(model, train_x, optimizer)\n",
        "    end_time = time.time()\n",
        "\n",
        "    if epoch % 1 == 0:\n",
        "        \n",
        "        loss = tf.keras.metrics.Mean()\n",
        "        for test_x in X_test:\n",
        "            loss(compute_loss(model, test_x))\n",
        "        elbo = -loss.result()\n",
        "        \n",
        "        display.clear_output(wait=False)\n",
        "        print('Epoch: {}, Test set ELBO: {}, '\n",
        "              'time elapse for current epoch {}'.format(epoch,\n",
        "                                                        elbo,\n",
        "                                                        end_time - start_time))\n",
        "        \n",
        "        generate_and_save_images(model, epoch, random_vector_for_generation)"
      ],
      "metadata": {
        "id": "wkcmQ4t1vykg"
      },
      "execution_count": null,
      "outputs": []
    },
    {
      "cell_type": "code",
      "source": [
        "def display_image(epoch_no):\n",
        "    return PIL.Image.open('/content/image_at_epoch_{:04d}.png'.format(epoch_no))"
      ],
      "metadata": {
        "id": "ZjAa0DCZv2Es"
      },
      "execution_count": null,
      "outputs": []
    },
    {
      "cell_type": "code",
      "source": [
        "plt.imshow(display_image(50))\n",
        "plt.axis('off')"
      ],
      "metadata": {
        "colab": {
          "base_uri": "https://localhost:8080/",
          "height": 269
        },
        "id": "Ir5S2i_I16VO",
        "outputId": "27a59a1d-0602-471e-b855-7e8f42ac57b1"
      },
      "execution_count": null,
      "outputs": [
        {
          "output_type": "execute_result",
          "data": {
            "text/plain": [
              "(-0.5, 287.5, 287.5, -0.5)"
            ]
          },
          "metadata": {},
          "execution_count": 81
        },
        {
          "output_type": "display_data",
          "data": {
            "text/plain": [
              "<Figure size 432x288 with 1 Axes>"
            ],
            "image/png": "[encoded data removed]"
          },
          "metadata": {
            "needs_background": "light"
          }
        }
      ]
    },
    {
      "cell_type": "code",
      "source": [
        "anim_file = 'cvae.gif'\n",
        "\n",
        "with imageio.get_writer(anim_file, mode='I') as writer:\n",
        "    filenames = glob.glob('image*.png')\n",
        "    filenames = sorted(filenames)\n",
        "    last = -1\n",
        "    for i,filename in enumerate(filenames):\n",
        "        frame = 2*(i**0.5)\n",
        "        if round(frame) > round(last):\n",
        "            last = frame\n",
        "        else:\n",
        "            continue\n",
        "        image = imageio.imread(filename)\n",
        "        writer.append_data(image)\n",
        "    image = imageio.imread(filename)\n",
        "    writer.append_data(image)\n",
        "\n",
        "import IPython\n",
        "if IPython.version_info >= (6,2,0,''):\n",
        "    display.Image(filename=anim_file)"
      ],
      "metadata": {
        "id": "LRYrFkvz1-Ev"
      },
      "execution_count": null,
      "outputs": []
    },
    {
      "cell_type": "code",
      "source": [],
      "metadata": {
        "id": "4GAmjh5L37IY"
      },
      "execution_count": null,
      "outputs": []
    }
  ]
}